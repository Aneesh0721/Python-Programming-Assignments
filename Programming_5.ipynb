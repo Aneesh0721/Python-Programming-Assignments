{
 "cells": [
  {
   "cell_type": "raw",
   "id": "214ff380",
   "metadata": {},
   "source": [
    "1. Write a Python Program to Find LCM?"
   ]
  },
  {
   "cell_type": "code",
   "execution_count": 4,
   "id": "493b209f",
   "metadata": {},
   "outputs": [
    {
     "data": {
      "text/plain": [
       "210"
      ]
     },
     "execution_count": 4,
     "metadata": {},
     "output_type": "execute_result"
    }
   ],
   "source": [
    "def lcm(a,b):\n",
    "    if a < b:\n",
    "        c = a\n",
    "    else:\n",
    "        c = b\n",
    "    while True:\n",
    "        if (c % a == 0) and (c % b == 0):\n",
    "            LCM = c\n",
    "            break\n",
    "        c += 1\n",
    "    return LCM\n",
    "lcm(14,15)"
   ]
  },
  {
   "cell_type": "raw",
   "id": "51e170d2",
   "metadata": {},
   "source": [
    "2. Write a Python Program to Find HCF?"
   ]
  },
  {
   "cell_type": "code",
   "execution_count": 5,
   "id": "be808feb",
   "metadata": {},
   "outputs": [
    {
     "data": {
      "text/plain": [
       "6"
      ]
     },
     "execution_count": 5,
     "metadata": {},
     "output_type": "execute_result"
    }
   ],
   "source": [
    "def hcf(a,b):\n",
    "    if a < b:\n",
    "        c = a\n",
    "    else:\n",
    "        c = b\n",
    "    while True:\n",
    "        if (a % c == 0) and (b % c == 0):\n",
    "            HCF = c\n",
    "            break\n",
    "        c = c-1\n",
    "    return HCF\n",
    "hcf(18,24)"
   ]
  },
  {
   "cell_type": "raw",
   "id": "a25d88f3",
   "metadata": {},
   "source": [
    "3. Write a Python Program to Convert Decimal to Binary, Octal and Hexadecimal?"
   ]
  },
  {
   "cell_type": "code",
   "execution_count": 6,
   "id": "5324a63b",
   "metadata": {},
   "outputs": [
    {
     "name": "stdout",
     "output_type": "stream",
     "text": [
      "Enter an integer: 15\n",
      "The decimal value of 15 is:\n",
      "0b1111 in binary.\n",
      "0o17 in octal.\n",
      "0xf in hexadecimal.\n"
     ]
    }
   ],
   "source": [
    "dec = int(input(\"Enter an integer: \"))\n",
    "print(\"The decimal value of\",dec,\"is:\")\n",
    "print(bin(dec),\"in binary.\")\n",
    "print(oct(dec),\"in octal.\")\n",
    "print(hex(dec),\"in hexadecimal.\")"
   ]
  },
  {
   "cell_type": "raw",
   "id": "e24c5f32",
   "metadata": {},
   "source": [
    "4. Write a Python Program To Find ASCII value of a character?"
   ]
  },
  {
   "cell_type": "code",
   "execution_count": 24,
   "id": "b1e3fae7",
   "metadata": {},
   "outputs": [
    {
     "name": "stdout",
     "output_type": "stream",
     "text": [
      "Enter a name:Nikhil\n",
      "N: 78\n",
      "i: 105\n",
      "k: 107\n",
      "h: 104\n",
      "i: 105\n",
      "l: 108\n"
     ]
    }
   ],
   "source": [
    "text = input(str(\"Enter a name:\"))\n",
    "for char in text:\n",
    "    print(char, end= \": \")\n",
    "    print(ord(char))"
   ]
  },
  {
   "cell_type": "raw",
   "id": "d5baa4d6",
   "metadata": {},
   "source": [
    "5. Write a Python Program to Make a Simple Calculator with 4 basic mathematical operations?"
   ]
  },
  {
   "cell_type": "code",
   "execution_count": 27,
   "id": "724f0bf9",
   "metadata": {},
   "outputs": [],
   "source": [
    "def add(a,b):\n",
    "    return a+b\n",
    "def sub(a,b):\n",
    "    if a > b:\n",
    "        return a-b\n",
    "    else:\n",
    "        return b-a\n",
    "def div(a,b):\n",
    "    return a/b\n",
    "def mul(a,b):\n",
    "       return a*b"
   ]
  },
  {
   "cell_type": "code",
   "execution_count": 28,
   "id": "cd88b23c",
   "metadata": {},
   "outputs": [
    {
     "data": {
      "text/plain": [
       "95"
      ]
     },
     "execution_count": 28,
     "metadata": {},
     "output_type": "execute_result"
    }
   ],
   "source": [
    "add(45,50)"
   ]
  },
  {
   "cell_type": "code",
   "execution_count": 29,
   "id": "cd3b187b",
   "metadata": {},
   "outputs": [
    {
     "data": {
      "text/plain": [
       "5"
      ]
     },
     "execution_count": 29,
     "metadata": {},
     "output_type": "execute_result"
    }
   ],
   "source": [
    "sub(45,50)"
   ]
  },
  {
   "cell_type": "code",
   "execution_count": 30,
   "id": "61d05867",
   "metadata": {},
   "outputs": [
    {
     "data": {
      "text/plain": [
       "2250"
      ]
     },
     "execution_count": 30,
     "metadata": {},
     "output_type": "execute_result"
    }
   ],
   "source": [
    "mul(45,50)"
   ]
  },
  {
   "cell_type": "code",
   "execution_count": 31,
   "id": "a69d515b",
   "metadata": {},
   "outputs": [
    {
     "data": {
      "text/plain": [
       "0.9"
      ]
     },
     "execution_count": 31,
     "metadata": {},
     "output_type": "execute_result"
    }
   ],
   "source": [
    "div(45,50)"
   ]
  }
 ],
 "metadata": {
  "kernelspec": {
   "display_name": "Python 3 (ipykernel)",
   "language": "python",
   "name": "python3"
  },
  "language_info": {
   "codemirror_mode": {
    "name": "ipython",
    "version": 3
   },
   "file_extension": ".py",
   "mimetype": "text/x-python",
   "name": "python",
   "nbconvert_exporter": "python",
   "pygments_lexer": "ipython3",
   "version": "3.9.12"
  }
 },
 "nbformat": 4,
 "nbformat_minor": 5
}

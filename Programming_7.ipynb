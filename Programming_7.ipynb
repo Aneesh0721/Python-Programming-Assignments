{
 "cells": [
  {
   "cell_type": "code",
   "execution_count": 1,
   "id": "47b27ffb",
   "metadata": {},
   "outputs": [],
   "source": [
    "import numpy as np"
   ]
  },
  {
   "cell_type": "raw",
   "id": "acfb8e04",
   "metadata": {},
   "source": [
    "1. Write a Python Program to find sum of array?"
   ]
  },
  {
   "cell_type": "code",
   "execution_count": 2,
   "id": "968b2f8d",
   "metadata": {},
   "outputs": [],
   "source": [
    "A = np.array([2,3,8,9,5])"
   ]
  },
  {
   "cell_type": "code",
   "execution_count": 3,
   "id": "b9a3bc3f",
   "metadata": {},
   "outputs": [
    {
     "data": {
      "text/plain": [
       "27"
      ]
     },
     "execution_count": 3,
     "metadata": {},
     "output_type": "execute_result"
    }
   ],
   "source": [
    "sum = 0\n",
    "for i in A:\n",
    "    sum = sum + i\n",
    "sum"
   ]
  },
  {
   "cell_type": "raw",
   "id": "fc9290ef",
   "metadata": {},
   "source": [
    "2. Write a Python Program to find largest element in an array?"
   ]
  },
  {
   "cell_type": "code",
   "execution_count": 4,
   "id": "fbd49098",
   "metadata": {},
   "outputs": [],
   "source": [
    "B = np.array([42,12,33,3,43])"
   ]
  },
  {
   "cell_type": "code",
   "execution_count": 5,
   "id": "2ce32c79",
   "metadata": {},
   "outputs": [
    {
     "data": {
      "text/plain": [
       "array([42, 12, 33,  3, 43])"
      ]
     },
     "execution_count": 5,
     "metadata": {},
     "output_type": "execute_result"
    }
   ],
   "source": [
    "B"
   ]
  },
  {
   "cell_type": "code",
   "execution_count": 6,
   "id": "3291dabd",
   "metadata": {},
   "outputs": [
    {
     "data": {
      "text/plain": [
       "43"
      ]
     },
     "execution_count": 6,
     "metadata": {},
     "output_type": "execute_result"
    }
   ],
   "source": [
    "c = 0\n",
    "for i in B:\n",
    "    if i > c:\n",
    "        c = i\n",
    "c"
   ]
  },
  {
   "cell_type": "raw",
   "id": "c4d2d822",
   "metadata": {},
   "source": [
    "3. Write a Python Program for array rotation?"
   ]
  },
  {
   "cell_type": "code",
   "execution_count": 13,
   "id": "1aabb6a9",
   "metadata": {},
   "outputs": [],
   "source": [
    "A = np.array([4,9,8,6,7])"
   ]
  },
  {
   "cell_type": "code",
   "execution_count": 14,
   "id": "b2a70fcf",
   "metadata": {},
   "outputs": [
    {
     "data": {
      "text/plain": [
       "array([8, 6, 4, 9, 7])"
      ]
     },
     "execution_count": 14,
     "metadata": {},
     "output_type": "execute_result"
    }
   ],
   "source": [
    "for i in range(0,2):\n",
    "    temp = A[0]\n",
    "    for j in range(len(A)-1):\n",
    "        A[j] = A[j+1]\n",
    "    A[j] = temp\n",
    "A    "
   ]
  },
  {
   "cell_type": "raw",
   "id": "436c2408",
   "metadata": {},
   "source": [
    "4. Write a Python Program to Split the array and add the first part to the end?"
   ]
  },
  {
   "cell_type": "code",
   "execution_count": 15,
   "id": "ed806fd0",
   "metadata": {},
   "outputs": [
    {
     "data": {
      "text/plain": [
       "array([4, 9, 8, 6, 7])"
      ]
     },
     "execution_count": 15,
     "metadata": {},
     "output_type": "execute_result"
    }
   ],
   "source": [
    "for i in range(0,2):\n",
    "    temp = A[0]\n",
    "    for j in range(len(A)-1):\n",
    "        A[j] = A[j+1]\n",
    "    A[j] = temp\n",
    "A    "
   ]
  },
  {
   "cell_type": "raw",
   "id": "583d2728",
   "metadata": {},
   "source": [
    "5. Write a Python Program to check if given array is Monotonic?"
   ]
  },
  {
   "cell_type": "code",
   "execution_count": 47,
   "id": "b5005bf2",
   "metadata": {},
   "outputs": [],
   "source": [
    "z = np.array([1,2,3,4,5,6,7])"
   ]
  },
  {
   "cell_type": "code",
   "execution_count": 41,
   "id": "ad0f5d0c",
   "metadata": {},
   "outputs": [
    {
     "data": {
      "text/plain": [
       "False"
      ]
     },
     "execution_count": 41,
     "metadata": {},
     "output_type": "execute_result"
    }
   ],
   "source": [
    "def ismonotonic(x):\n",
    "    for i in range(len(x)-1):\n",
    "        if x[i] <= x[i+1]:\n",
    "            pass\n",
    "        else:\n",
    "            return False\n",
    "    return True\n",
    "ismonotonic(A)"
   ]
  },
  {
   "cell_type": "code",
   "execution_count": 43,
   "id": "e04d6b5b",
   "metadata": {},
   "outputs": [
    {
     "data": {
      "text/plain": [
       "array([4, 9, 8, 6, 7])"
      ]
     },
     "execution_count": 43,
     "metadata": {},
     "output_type": "execute_result"
    }
   ],
   "source": [
    "A"
   ]
  },
  {
   "cell_type": "code",
   "execution_count": 44,
   "id": "99457120",
   "metadata": {},
   "outputs": [
    {
     "data": {
      "text/plain": [
       "False"
      ]
     },
     "execution_count": 44,
     "metadata": {},
     "output_type": "execute_result"
    }
   ],
   "source": [
    "ismonotonic(B)"
   ]
  },
  {
   "cell_type": "code",
   "execution_count": 45,
   "id": "da1d64bf",
   "metadata": {},
   "outputs": [
    {
     "data": {
      "text/plain": [
       "array([42, 12, 33,  3, 43])"
      ]
     },
     "execution_count": 45,
     "metadata": {},
     "output_type": "execute_result"
    }
   ],
   "source": [
    "B"
   ]
  },
  {
   "cell_type": "code",
   "execution_count": 48,
   "id": "08ef9e32",
   "metadata": {},
   "outputs": [
    {
     "data": {
      "text/plain": [
       "array([1, 2, 3, 4, 5, 6, 7])"
      ]
     },
     "execution_count": 48,
     "metadata": {},
     "output_type": "execute_result"
    }
   ],
   "source": [
    "z"
   ]
  },
  {
   "cell_type": "code",
   "execution_count": 49,
   "id": "335a9b5a",
   "metadata": {},
   "outputs": [
    {
     "data": {
      "text/plain": [
       "True"
      ]
     },
     "execution_count": 49,
     "metadata": {},
     "output_type": "execute_result"
    }
   ],
   "source": [
    "ismonotonic(z)"
   ]
  },
  {
   "cell_type": "code",
   "execution_count": null,
   "id": "f0a199c2",
   "metadata": {},
   "outputs": [],
   "source": []
  }
 ],
 "metadata": {
  "kernelspec": {
   "display_name": "Python 3 (ipykernel)",
   "language": "python",
   "name": "python3"
  },
  "language_info": {
   "codemirror_mode": {
    "name": "ipython",
    "version": 3
   },
   "file_extension": ".py",
   "mimetype": "text/x-python",
   "name": "python",
   "nbconvert_exporter": "python",
   "pygments_lexer": "ipython3",
   "version": "3.9.12"
  }
 },
 "nbformat": 4,
 "nbformat_minor": 5
}

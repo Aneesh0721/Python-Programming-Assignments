{
 "cells": [
  {
   "cell_type": "raw",
   "id": "a7300f75",
   "metadata": {},
   "source": [
    "1. Write a Python Program to Find the Factorial of a Number?"
   ]
  },
  {
   "cell_type": "code",
   "execution_count": 2,
   "id": "f44d172d",
   "metadata": {},
   "outputs": [
    {
     "data": {
      "text/plain": [
       "720"
      ]
     },
     "execution_count": 2,
     "metadata": {},
     "output_type": "execute_result"
    }
   ],
   "source": [
    "def fac(n):\n",
    "    a = 1\n",
    "    for i in range(1,n+1):\n",
    "        a = a*i\n",
    "    return a\n",
    "fac(6)\n",
    "        "
   ]
  },
  {
   "cell_type": "raw",
   "id": "100819a1",
   "metadata": {},
   "source": [
    "2. Write a Python Program to Display the multiplication Table?"
   ]
  },
  {
   "cell_type": "code",
   "execution_count": 15,
   "id": "3d91b6b1",
   "metadata": {},
   "outputs": [
    {
     "name": "stdout",
     "output_type": "stream",
     "text": [
      "2 * 1 = 2\n",
      "2 * 2 = 4\n",
      "2 * 3 = 6\n",
      "2 * 4 = 8\n",
      "2 * 5 = 10\n",
      "2 * 6 = 12\n",
      "2 * 7 = 14\n",
      "2 * 8 = 16\n",
      "2 * 9 = 18\n",
      "2 * 10 = 20\n"
     ]
    }
   ],
   "source": [
    "def mul(n):\n",
    "    a = 1\n",
    "    for i in range(1,11):\n",
    "        a = n*i\n",
    "        print(n, end = \" \"  )\n",
    "        print('*', end = \" \")\n",
    "        print(i, end = \" \")\n",
    "        print('=', end = \" \")\n",
    "        print(a, end = \"\")\n",
    "        print()\n",
    "mul(2)"
   ]
  },
  {
   "cell_type": "raw",
   "id": "f949bd42",
   "metadata": {},
   "source": [
    "3. Write a Python Program to Print the Fibonacci sequence?"
   ]
  },
  {
   "cell_type": "code",
   "execution_count": 3,
   "id": "e5c4c35a",
   "metadata": {},
   "outputs": [
    {
     "name": "stdout",
     "output_type": "stream",
     "text": [
      "1 2 3 5 8 13 21 34 55 89 "
     ]
    }
   ],
   "source": [
    "def fib(n):\n",
    "    a = 0\n",
    "    b = 1\n",
    "    i = 1\n",
    "    while i <= n:\n",
    "        c = a + b\n",
    "        a = b\n",
    "        b = c\n",
    "        print(c, end = \" \")\n",
    "        i += 1\n",
    "fib(10)"
   ]
  },
  {
   "cell_type": "raw",
   "id": "de07ed60",
   "metadata": {},
   "source": [
    "4. Write a Python Program to Check Armstrong Number?"
   ]
  },
  {
   "cell_type": "code",
   "execution_count": 24,
   "id": "d2642e25",
   "metadata": {},
   "outputs": [
    {
     "name": "stdout",
     "output_type": "stream",
     "text": [
      "The number is armstrong number\n"
     ]
    }
   ],
   "source": [
    "\n",
    "def arms_num(n):\n",
    "    s = n\n",
    "    b = 0\n",
    "    a = len(str(n))\n",
    "    while n != 0:\n",
    "        c = n % 10\n",
    "        b = b + c ** a\n",
    "        n = n // 10\n",
    "    if b == s :\n",
    "        print('The number is armstrong number')\n",
    "    else:\n",
    "        print('The number is not an armstrong number')\n",
    "arms_num(153)"
   ]
  },
  {
   "cell_type": "raw",
   "id": "66f88c3c",
   "metadata": {},
   "source": [
    "5. Write a Python Program to Find Armstrong Number in an Interval?"
   ]
  },
  {
   "cell_type": "code",
   "execution_count": 37,
   "id": "1dcbceb5",
   "metadata": {},
   "outputs": [
    {
     "name": "stdout",
     "output_type": "stream",
     "text": [
      "153\n",
      "370\n",
      "371\n",
      "407\n"
     ]
    }
   ],
   "source": [
    "def arm_num(a,b):\n",
    "    for i in range(a,b):\n",
    "        c = len(str(a))\n",
    "        sum = 0\n",
    "        s = i\n",
    "        while i != 0:\n",
    "            r = i % 10\n",
    "            sum = sum + r**c\n",
    "            i = i // 10\n",
    "        if sum == s:\n",
    "            print(s)\n",
    "        else:\n",
    "            pass\n",
    "arm_num(100,1000)"
   ]
  },
  {
   "cell_type": "raw",
   "id": "fbe35d0a",
   "metadata": {},
   "source": [
    "6. Write a Python Program to Find the Sum of Natural Numbers?"
   ]
  },
  {
   "cell_type": "code",
   "execution_count": 28,
   "id": "cfae4e58",
   "metadata": {},
   "outputs": [
    {
     "data": {
      "text/plain": [
       "1275"
      ]
     },
     "execution_count": 28,
     "metadata": {},
     "output_type": "execute_result"
    }
   ],
   "source": [
    "def nat_num_sum(n):\n",
    "    a = 0\n",
    "    for i in range(1,n+1):\n",
    "        c = a+i\n",
    "        a = c\n",
    "    return c\n",
    "nat_num_sum(50)"
   ]
  },
  {
   "cell_type": "code",
   "execution_count": null,
   "id": "488f90aa",
   "metadata": {},
   "outputs": [],
   "source": []
  }
 ],
 "metadata": {
  "kernelspec": {
   "display_name": "Python 3 (ipykernel)",
   "language": "python",
   "name": "python3"
  },
  "language_info": {
   "codemirror_mode": {
    "name": "ipython",
    "version": 3
   },
   "file_extension": ".py",
   "mimetype": "text/x-python",
   "name": "python",
   "nbconvert_exporter": "python",
   "pygments_lexer": "ipython3",
   "version": "3.9.12"
  }
 },
 "nbformat": 4,
 "nbformat_minor": 5
}

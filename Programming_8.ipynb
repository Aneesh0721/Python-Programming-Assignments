{
 "cells": [
  {
   "cell_type": "raw",
   "id": "37a909b2",
   "metadata": {},
   "source": [
    "1. Write a Python Program to Add Two Matrices?"
   ]
  },
  {
   "cell_type": "code",
   "execution_count": 3,
   "id": "0fc5006a",
   "metadata": {},
   "outputs": [],
   "source": [
    "import numpy as np"
   ]
  },
  {
   "cell_type": "code",
   "execution_count": 9,
   "id": "d7d07c11",
   "metadata": {},
   "outputs": [],
   "source": [
    "a = np.random.randint(1,10,[3,3])"
   ]
  },
  {
   "cell_type": "code",
   "execution_count": 10,
   "id": "618cb26a",
   "metadata": {},
   "outputs": [
    {
     "data": {
      "text/plain": [
       "array([[8, 1, 8],\n",
       "       [4, 2, 7],\n",
       "       [9, 8, 4]])"
      ]
     },
     "execution_count": 10,
     "metadata": {},
     "output_type": "execute_result"
    }
   ],
   "source": [
    "a"
   ]
  },
  {
   "cell_type": "code",
   "execution_count": 11,
   "id": "d5d03a1e",
   "metadata": {},
   "outputs": [],
   "source": [
    "b = np.random.randint(1,10,[3,3])"
   ]
  },
  {
   "cell_type": "code",
   "execution_count": 12,
   "id": "576cce39",
   "metadata": {},
   "outputs": [
    {
     "data": {
      "text/plain": [
       "array([[4, 3, 8],\n",
       "       [3, 4, 3],\n",
       "       [4, 3, 8]])"
      ]
     },
     "execution_count": 12,
     "metadata": {},
     "output_type": "execute_result"
    }
   ],
   "source": [
    "b"
   ]
  },
  {
   "cell_type": "code",
   "execution_count": 13,
   "id": "1a683c4a",
   "metadata": {},
   "outputs": [
    {
     "data": {
      "text/plain": [
       "array([[12,  4, 16],\n",
       "       [ 7,  6, 10],\n",
       "       [13, 11, 12]])"
      ]
     },
     "execution_count": 13,
     "metadata": {},
     "output_type": "execute_result"
    }
   ],
   "source": [
    "a+b"
   ]
  },
  {
   "cell_type": "raw",
   "id": "404cac4d",
   "metadata": {},
   "source": [
    "2. Write a Python Program to Multiply Two Matrices?"
   ]
  },
  {
   "cell_type": "code",
   "execution_count": 14,
   "id": "be80f81e",
   "metadata": {},
   "outputs": [
    {
     "data": {
      "text/plain": [
       "array([[ 67,  52, 131],\n",
       "       [ 50,  41,  94],\n",
       "       [ 76,  71, 128]])"
      ]
     },
     "execution_count": 14,
     "metadata": {},
     "output_type": "execute_result"
    }
   ],
   "source": [
    "a @ b"
   ]
  },
  {
   "cell_type": "raw",
   "id": "564f3c80",
   "metadata": {},
   "source": [
    "3. Write a Python Program to Transpose a Matrix?"
   ]
  },
  {
   "cell_type": "code",
   "execution_count": 15,
   "id": "f3ad573c",
   "metadata": {},
   "outputs": [
    {
     "data": {
      "text/plain": [
       "array([[8, 4, 9],\n",
       "       [1, 2, 8],\n",
       "       [8, 7, 4]])"
      ]
     },
     "execution_count": 15,
     "metadata": {},
     "output_type": "execute_result"
    }
   ],
   "source": [
    "a.T"
   ]
  },
  {
   "cell_type": "code",
   "execution_count": 17,
   "id": "45593a60",
   "metadata": {},
   "outputs": [
    {
     "data": {
      "text/plain": [
       "array([[1, 4],\n",
       "       [2, 5],\n",
       "       [3, 6]])"
      ]
     },
     "execution_count": 17,
     "metadata": {},
     "output_type": "execute_result"
    }
   ],
   "source": [
    "np.array([[1,2,3],[4,5,6]]).T"
   ]
  },
  {
   "cell_type": "raw",
   "id": "ad406594",
   "metadata": {},
   "source": [
    "4. Write a Python Program to Sort Words in Alphabetic Order?"
   ]
  },
  {
   "cell_type": "code",
   "execution_count": 32,
   "id": "aab3507c",
   "metadata": {},
   "outputs": [],
   "source": [
    "s = \"Sports in India refers to the large variety of games played in India, ranging from tribal games to more mainstream sports such as, cricket, football, field hockey, badminton and kabaddi\""
   ]
  },
  {
   "cell_type": "code",
   "execution_count": 36,
   "id": "19e4041c",
   "metadata": {},
   "outputs": [],
   "source": [
    "l = s.lower()"
   ]
  },
  {
   "cell_type": "code",
   "execution_count": 39,
   "id": "075ca9c8",
   "metadata": {},
   "outputs": [],
   "source": [
    "words = l.split()\n",
    "words.sort()"
   ]
  },
  {
   "cell_type": "code",
   "execution_count": 40,
   "id": "b11e3130",
   "metadata": {},
   "outputs": [
    {
     "name": "stdout",
     "output_type": "stream",
     "text": [
      "and\n",
      "as,\n",
      "badminton\n",
      "cricket,\n",
      "field\n",
      "football,\n",
      "from\n",
      "games\n",
      "games\n",
      "hockey,\n",
      "in\n",
      "in\n",
      "india\n",
      "india,\n",
      "kabaddi\n",
      "large\n",
      "mainstream\n",
      "more\n",
      "of\n",
      "played\n",
      "ranging\n",
      "refers\n",
      "sports\n",
      "sports\n",
      "such\n",
      "the\n",
      "to\n",
      "to\n",
      "tribal\n",
      "variety\n"
     ]
    }
   ],
   "source": [
    "for i in words:\n",
    "    print(i)\n"
   ]
  },
  {
   "cell_type": "code",
   "execution_count": null,
   "id": "ef51e3f1",
   "metadata": {},
   "outputs": [],
   "source": []
  }
 ],
 "metadata": {
  "kernelspec": {
   "display_name": "Python 3 (ipykernel)",
   "language": "python",
   "name": "python3"
  },
  "language_info": {
   "codemirror_mode": {
    "name": "ipython",
    "version": 3
   },
   "file_extension": ".py",
   "mimetype": "text/x-python",
   "name": "python",
   "nbconvert_exporter": "python",
   "pygments_lexer": "ipython3",
   "version": "3.9.12"
  }
 },
 "nbformat": 4,
 "nbformat_minor": 5
}

{
 "cells": [
  {
   "cell_type": "raw",
   "id": "57e1d677",
   "metadata": {},
   "source": [
    "1. Write a Python Program to Display Fibonacci Sequence Using Recursion?"
   ]
  },
  {
   "cell_type": "code",
   "execution_count": 8,
   "id": "3d6c9089",
   "metadata": {},
   "outputs": [
    {
     "data": {
      "text/plain": [
       "[0, 1, 1, 3, 5, 7, 9, 11, 13, 15]"
      ]
     },
     "execution_count": 8,
     "metadata": {},
     "output_type": "execute_result"
    }
   ],
   "source": [
    "def fib_seq(n):\n",
    "    L = []\n",
    "    for i in range(n):\n",
    "        if i < 0:\n",
    "            print('Enter a positive number:')\n",
    "        elif i <= 1:\n",
    "            L.append(i)\n",
    "        else:\n",
    "            L.append((i-1)+(i-2))\n",
    "    return L\n",
    "fib_seq(10)"
   ]
  },
  {
   "cell_type": "code",
   "execution_count": 9,
   "id": "a653d12f",
   "metadata": {},
   "outputs": [
    {
     "name": "stdout",
     "output_type": "stream",
     "text": [
      "Object `Recursion` not found.\n"
     ]
    }
   ],
   "source": [
    "2. Write a Python Program to Find Factorial of Number Using Recursion?"
   ]
  },
  {
   "cell_type": "raw",
   "id": "1b0ef929",
   "metadata": {},
   "source": [
    "2. Write a Python Program to Find Factorial of Number Using Recursion"
   ]
  },
  {
   "cell_type": "code",
   "execution_count": 10,
   "id": "678f01f4",
   "metadata": {},
   "outputs": [
    {
     "data": {
      "text/plain": [
       "720"
      ]
     },
     "execution_count": 10,
     "metadata": {},
     "output_type": "execute_result"
    }
   ],
   "source": [
    "def fac(n):\n",
    "    a = 1\n",
    "    for i in range(1,n+1):\n",
    "        a = a*i\n",
    "    return a\n",
    "fac(6)   "
   ]
  },
  {
   "cell_type": "raw",
   "id": "29b96290",
   "metadata": {},
   "source": [
    "3. Write a Python Program to calculate your Body Mass Index?"
   ]
  },
  {
   "cell_type": "code",
   "execution_count": 19,
   "id": "57880d01",
   "metadata": {},
   "outputs": [
    {
     "name": "stdout",
     "output_type": "stream",
     "text": [
      "Enter height in meters: 1.76784\n",
      "Enter weight in kilograms: 60\n",
      "19.1984133472825\n"
     ]
    }
   ],
   "source": [
    "def bmi():\n",
    "    a = float(input(\"Enter height in meters: \"))\n",
    "    b = int(input(\"Enter weight in kilograms: \"))\n",
    "    BMI = b/(a*a)\n",
    "    print(BMI)\n",
    "bmi()"
   ]
  },
  {
   "cell_type": "raw",
   "id": "28c434be",
   "metadata": {},
   "source": [
    "4. Write a Python Program to calculate the natural logarithm of any number?"
   ]
  },
  {
   "cell_type": "code",
   "execution_count": 20,
   "id": "8c648312",
   "metadata": {},
   "outputs": [
    {
     "data": {
      "text/plain": [
       "2.302585092994046"
      ]
     },
     "execution_count": 20,
     "metadata": {},
     "output_type": "execute_result"
    }
   ],
   "source": [
    "import math\n",
    "math.log(10)"
   ]
  },
  {
   "cell_type": "raw",
   "id": "bc7c9526",
   "metadata": {},
   "source": [
    "5. Write a Python Program for cube sum of first n natural numbers?"
   ]
  },
  {
   "cell_type": "code",
   "execution_count": 26,
   "id": "96604939",
   "metadata": {},
   "outputs": [
    {
     "data": {
      "text/plain": [
       "3025"
      ]
     },
     "execution_count": 26,
     "metadata": {},
     "output_type": "execute_result"
    }
   ],
   "source": [
    "def cube_sum(n):\n",
    "    if n <= 0:\n",
    "        pass\n",
    "    else:\n",
    "        a = 0\n",
    "        for i in range(n+1):\n",
    "            a = i**3 + a\n",
    "        return a\n",
    "cube_sum(10)"
   ]
  }
 ],
 "metadata": {
  "kernelspec": {
   "display_name": "Python 3 (ipykernel)",
   "language": "python",
   "name": "python3"
  },
  "language_info": {
   "codemirror_mode": {
    "name": "ipython",
    "version": 3
   },
   "file_extension": ".py",
   "mimetype": "text/x-python",
   "name": "python",
   "nbconvert_exporter": "python",
   "pygments_lexer": "ipython3",
   "version": "3.9.12"
  }
 },
 "nbformat": 4,
 "nbformat_minor": 5
}

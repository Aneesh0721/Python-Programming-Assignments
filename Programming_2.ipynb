{
 "cells": [
  {
   "cell_type": "raw",
   "id": "a2093b49",
   "metadata": {},
   "source": [
    "1. Write a Python program to convert kilometers to miles?"
   ]
  },
  {
   "cell_type": "code",
   "execution_count": 5,
   "id": "2043efd5",
   "metadata": {},
   "outputs": [
    {
     "data": {
      "text/plain": [
       "3.1069999999999998"
      ]
     },
     "execution_count": 5,
     "metadata": {},
     "output_type": "execute_result"
    }
   ],
   "source": [
    "def KM_Miles(KM):\n",
    "    M =  0.6214*KM\n",
    "    return M\n",
    "KM_Miles(5)"
   ]
  },
  {
   "cell_type": "raw",
   "id": "543f3f90",
   "metadata": {},
   "source": [
    "2. Write a Python program to convert Celsius to Fahrenheit?"
   ]
  },
  {
   "cell_type": "code",
   "execution_count": 10,
   "id": "f32e61d4",
   "metadata": {},
   "outputs": [
    {
     "data": {
      "text/plain": [
       "302.0"
      ]
     },
     "execution_count": 10,
     "metadata": {},
     "output_type": "execute_result"
    }
   ],
   "source": [
    "def Cel_Fa(C):\n",
    "    F = C*9/5+32\n",
    "    return F\n",
    "Cel_Fa(150)"
   ]
  },
  {
   "cell_type": "raw",
   "id": "cc609a98",
   "metadata": {},
   "source": [
    "3. Write a Python program to display calendar?"
   ]
  },
  {
   "cell_type": "code",
   "execution_count": 16,
   "id": "24533f94",
   "metadata": {},
   "outputs": [
    {
     "data": {
      "text/plain": [
       "'   September 2022\\nMo Tu We Th Fr Sa Su\\n          1  2  3  4\\n 5  6  7  8  9 10 11\\n12 13 14 15 16 17 18\\n19 20 21 22 23 24 25\\n26 27 28 29 30\\n'"
      ]
     },
     "execution_count": 16,
     "metadata": {},
     "output_type": "execute_result"
    }
   ],
   "source": [
    "import calendar\n",
    "year = 2022\n",
    "mm = 9\n",
    "calendar.month(year,mm)"
   ]
  },
  {
   "cell_type": "raw",
   "id": "2004a7cf",
   "metadata": {},
   "source": [
    "4. Write a Python program to solve quadratic equation?"
   ]
  },
  {
   "cell_type": "code",
   "execution_count": 25,
   "id": "6d32126e",
   "metadata": {},
   "outputs": [
    {
     "data": {
      "text/plain": [
       "(-1.1715728752538097, -6.82842712474619)"
      ]
     },
     "execution_count": 25,
     "metadata": {},
     "output_type": "execute_result"
    }
   ],
   "source": [
    "import math\n",
    "a = 2\n",
    "b = 4\n",
    "c = 1\n",
    "d = (b*b-4*a*c)\n",
    "root = math.sqrt(d)\n",
    "x1 = (-b+root)/2*a\n",
    "x2 = (-b-root)/2*a\n",
    "x1,x2"
   ]
  },
  {
   "cell_type": "raw",
   "id": "b813480f",
   "metadata": {},
   "source": [
    "5. Write a Python program to swap two variables without temp variable?"
   ]
  },
  {
   "cell_type": "code",
   "execution_count": 26,
   "id": "e4e31d96",
   "metadata": {},
   "outputs": [
    {
     "data": {
      "text/plain": [
       "(5, 4)"
      ]
     },
     "execution_count": 26,
     "metadata": {},
     "output_type": "execute_result"
    }
   ],
   "source": [
    "def swap(a,b):\n",
    "    a,b = b,a\n",
    "    return a,b\n",
    "swap(4,5)"
   ]
  }
 ],
 "metadata": {
  "kernelspec": {
   "display_name": "Python 3 (ipykernel)",
   "language": "python",
   "name": "python3"
  },
  "language_info": {
   "codemirror_mode": {
    "name": "ipython",
    "version": 3
   },
   "file_extension": ".py",
   "mimetype": "text/x-python",
   "name": "python",
   "nbconvert_exporter": "python",
   "pygments_lexer": "ipython3",
   "version": "3.9.12"
  }
 },
 "nbformat": 4,
 "nbformat_minor": 5
}
